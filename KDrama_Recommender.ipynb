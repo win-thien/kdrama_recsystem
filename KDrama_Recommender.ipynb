{
 "cells": [
  {
   "cell_type": "markdown",
   "id": "9024a3f9",
   "metadata": {},
   "source": [
    "### Thien Win, PE\n",
    "\n",
    "### Project: Recommend a KDrama!\n",
    "\n",
    "<b>Contact:</b> win.thien@gmail.com <br>\n",
    "<b>LinkedIn:</b> https://www.linkedin.com/in/thien-win-pe/<br>\n",
    "<b>GitHub:</b> https://github.com/win-thien<br>\n",
    "\n",
    "<hr>"
   ]
  },
  {
   "cell_type": "markdown",
   "id": "5abd6e87",
   "metadata": {},
   "source": [
    "### Introduction"
   ]
  },
  {
   "cell_type": "markdown",
   "id": "33f76e67",
   "metadata": {},
   "source": [
    "In this short project, I will demonstrate some data cleaning and NLP techniques to create a simple content filter based recommender system for korean dramas. I am a big fan of KDramas and with the explosion of Korean culture in the West and other parts of the world, more music, shows and movies are being recognized by streaming platforms. Netflix launched its services in Korea on 2016 and released its first Korean content in 2018 with a 24-episode historical drama in \"Mr. Sunshine\". With a sudden surge of 4.1M subscribers in 2020, Netflix raced to produce more content with 15 original Korean series/films produced in 2021 and 25 scheduled for 2022.\n",
    "\n",
    "With so much new content and sometimes long time investments, I am looking to build a recommender system to help make my choices easier.\n",
    "\n",
    "The dataset used was found on Kaggle and looks to be scraped from iMDb, which is a database for films and shows that provide certain information like plots, actors/actresses, runtime, etc.\n",
    "\n",
    "https://www.kaggle.com/datasets/chanoncharuchinda/imdb-korean-tv-series <br>\n",
    "https://asiasociety.org/korea/korean-dramas-taking-over-netflix\n",
    "\n",
    "I saw during a cursory review of the dataset that there are observations in the set that are not Korean dramas. I left them in there to see if the recommender system can detect similarities in the movie input and provide other fitting recommendations regardless of language."
   ]
  },
  {
   "cell_type": "code",
   "execution_count": 1,
   "id": "2fa325c7",
   "metadata": {},
   "outputs": [],
   "source": [
    "#import required libraries and modules\n",
    "import pandas as pd\n",
    "import matplotlib.pyplot as plt\n",
    "\n",
    "import warnings\n",
    "warnings.filterwarnings(\"ignore\")\n",
    "\n",
    "%matplotlib inline"
   ]
  },
  {
   "cell_type": "markdown",
   "id": "6b734f72",
   "metadata": {},
   "source": [
    "### Load in dataset"
   ]
  },
  {
   "cell_type": "markdown",
   "id": "73ed2b19",
   "metadata": {},
   "source": [
    "Let's first start with loading in and inspecting some of the feature variables in the 'koreanTV.csv' file that contains the the plot, stars, genre, etc. of the dramas utilizing Pandas."
   ]
  },
  {
   "cell_type": "code",
   "execution_count": 2,
   "id": "48e09387",
   "metadata": {},
   "outputs": [
    {
     "name": "stdout",
     "output_type": "stream",
     "text": [
      "Number of observations: 1989\n"
     ]
    },
    {
     "data": {
      "text/html": [
       "<div>\n",
       "<style scoped>\n",
       "    .dataframe tbody tr th:only-of-type {\n",
       "        vertical-align: middle;\n",
       "    }\n",
       "\n",
       "    .dataframe tbody tr th {\n",
       "        vertical-align: top;\n",
       "    }\n",
       "\n",
       "    .dataframe thead th {\n",
       "        text-align: right;\n",
       "    }\n",
       "</style>\n",
       "<table border=\"1\" class=\"dataframe\">\n",
       "  <thead>\n",
       "    <tr style=\"text-align: right;\">\n",
       "      <th></th>\n",
       "      <th>Title</th>\n",
       "      <th>Year</th>\n",
       "      <th>Rating</th>\n",
       "      <th>Votes:</th>\n",
       "      <th>Time</th>\n",
       "      <th>Genre</th>\n",
       "      <th>Stars</th>\n",
       "      <th>Short Story</th>\n",
       "    </tr>\n",
       "  </thead>\n",
       "  <tbody>\n",
       "    <tr>\n",
       "      <th>0</th>\n",
       "      <td>Hellbound</td>\n",
       "      <td>(2021– )</td>\n",
       "      <td>6.7</td>\n",
       "      <td>14,032</td>\n",
       "      <td>150 min</td>\n",
       "      <td>Crime, Drama, Fantasy</td>\n",
       "      <td>Yoo Ah-in, Kim Hyun-joo, Jeong Min Park, Jin-a...</td>\n",
       "      <td>\\nPeople hear predictions on when they will di...</td>\n",
       "    </tr>\n",
       "    <tr>\n",
       "      <th>1</th>\n",
       "      <td>Squid Game</td>\n",
       "      <td>(2021– )</td>\n",
       "      <td>8.1</td>\n",
       "      <td>339,931</td>\n",
       "      <td>55 min</td>\n",
       "      <td>Action, Drama, Mystery</td>\n",
       "      <td>Lee Jung-jae, Park Hae-soo, Wi Ha-Joon, Jung H...</td>\n",
       "      <td>\\nHundreds of cash-strapped players accept a s...</td>\n",
       "    </tr>\n",
       "    <tr>\n",
       "      <th>2</th>\n",
       "      <td>My Name</td>\n",
       "      <td>(2021– )</td>\n",
       "      <td>7.9</td>\n",
       "      <td>12,877</td>\n",
       "      <td>50 min</td>\n",
       "      <td>Action, Crime, Drama</td>\n",
       "      <td>Hee-soon Park, Ahn Bo-Hyun, Han So-hee, Kim Sa...</td>\n",
       "      <td>\\nThe story about a woman who joins an organiz...</td>\n",
       "    </tr>\n",
       "    <tr>\n",
       "      <th>3</th>\n",
       "      <td>Miraculous: Tales of Ladybug &amp; Cat Noir</td>\n",
       "      <td>(2015– )</td>\n",
       "      <td>7.7</td>\n",
       "      <td>9,439</td>\n",
       "      <td>20 min</td>\n",
       "      <td>Animation, Action, Adventure</td>\n",
       "      <td>Cristina Valenzuela, Bryce Papenbrook, Keith S...</td>\n",
       "      <td>\\nMarinette and Adrien, two normal teens, tran...</td>\n",
       "    </tr>\n",
       "    <tr>\n",
       "      <th>4</th>\n",
       "      <td>Happiness</td>\n",
       "      <td>(2021– )</td>\n",
       "      <td>8.6</td>\n",
       "      <td>921</td>\n",
       "      <td>-</td>\n",
       "      <td>Action, Fantasy, Thriller</td>\n",
       "      <td>Han Hyo-joo, Park Hyung-Sik, Woo-jin Jo, Lee J...</td>\n",
       "      <td>\\nAn apocalyptic thriller that takes place in ...</td>\n",
       "    </tr>\n",
       "  </tbody>\n",
       "</table>\n",
       "</div>"
      ],
      "text/plain": [
       "                                     Title      Year Rating   Votes:     Time  \\\n",
       "0                                Hellbound  (2021– )    6.7   14,032  150 min   \n",
       "1                               Squid Game  (2021– )    8.1  339,931   55 min   \n",
       "2                                  My Name  (2021– )    7.9   12,877   50 min   \n",
       "3  Miraculous: Tales of Ladybug & Cat Noir  (2015– )    7.7    9,439   20 min   \n",
       "4                                Happiness  (2021– )    8.6      921        -   \n",
       "\n",
       "                          Genre  \\\n",
       "0         Crime, Drama, Fantasy   \n",
       "1        Action, Drama, Mystery   \n",
       "2          Action, Crime, Drama   \n",
       "3  Animation, Action, Adventure   \n",
       "4     Action, Fantasy, Thriller   \n",
       "\n",
       "                                               Stars  \\\n",
       "0  Yoo Ah-in, Kim Hyun-joo, Jeong Min Park, Jin-a...   \n",
       "1  Lee Jung-jae, Park Hae-soo, Wi Ha-Joon, Jung H...   \n",
       "2  Hee-soon Park, Ahn Bo-Hyun, Han So-hee, Kim Sa...   \n",
       "3  Cristina Valenzuela, Bryce Papenbrook, Keith S...   \n",
       "4  Han Hyo-joo, Park Hyung-Sik, Woo-jin Jo, Lee J...   \n",
       "\n",
       "                                         Short Story  \n",
       "0  \\nPeople hear predictions on when they will di...  \n",
       "1  \\nHundreds of cash-strapped players accept a s...  \n",
       "2  \\nThe story about a woman who joins an organiz...  \n",
       "3  \\nMarinette and Adrien, two normal teens, tran...  \n",
       "4  \\nAn apocalyptic thriller that takes place in ...  "
      ]
     },
     "execution_count": 2,
     "metadata": {},
     "output_type": "execute_result"
    }
   ],
   "source": [
    "drama = pd.read_csv('koreanTV.csv')\n",
    "print('Number of observations:',drama['Title'].count())\n",
    "drama.head()"
   ]
  },
  {
   "cell_type": "markdown",
   "id": "d1cea585",
   "metadata": {},
   "source": [
    "From the imported dataset, there are 1,989 observations in total. Let's check some of the high level statistical characteristics and data types for the information found in the dataframe."
   ]
  },
  {
   "cell_type": "code",
   "execution_count": 3,
   "id": "482aa5ff",
   "metadata": {},
   "outputs": [
    {
     "data": {
      "text/html": [
       "<div>\n",
       "<style scoped>\n",
       "    .dataframe tbody tr th:only-of-type {\n",
       "        vertical-align: middle;\n",
       "    }\n",
       "\n",
       "    .dataframe tbody tr th {\n",
       "        vertical-align: top;\n",
       "    }\n",
       "\n",
       "    .dataframe thead th {\n",
       "        text-align: right;\n",
       "    }\n",
       "</style>\n",
       "<table border=\"1\" class=\"dataframe\">\n",
       "  <thead>\n",
       "    <tr style=\"text-align: right;\">\n",
       "      <th></th>\n",
       "      <th>Title</th>\n",
       "      <th>Year</th>\n",
       "      <th>Rating</th>\n",
       "      <th>Votes:</th>\n",
       "      <th>Time</th>\n",
       "      <th>Genre</th>\n",
       "      <th>Stars</th>\n",
       "      <th>Short Story</th>\n",
       "    </tr>\n",
       "  </thead>\n",
       "  <tbody>\n",
       "    <tr>\n",
       "      <th>count</th>\n",
       "      <td>1989</td>\n",
       "      <td>1978</td>\n",
       "      <td>1989</td>\n",
       "      <td>1989</td>\n",
       "      <td>1989</td>\n",
       "      <td>1989</td>\n",
       "      <td>1989</td>\n",
       "      <td>1989</td>\n",
       "    </tr>\n",
       "    <tr>\n",
       "      <th>unique</th>\n",
       "      <td>1975</td>\n",
       "      <td>173</td>\n",
       "      <td>62</td>\n",
       "      <td>659</td>\n",
       "      <td>79</td>\n",
       "      <td>224</td>\n",
       "      <td>1445</td>\n",
       "      <td>1662</td>\n",
       "    </tr>\n",
       "    <tr>\n",
       "      <th>top</th>\n",
       "      <td>Happy Together</td>\n",
       "      <td>(2021– )</td>\n",
       "      <td>-</td>\n",
       "      <td>-</td>\n",
       "      <td>-</td>\n",
       "      <td>Drama</td>\n",
       "      <td>-</td>\n",
       "      <td>\\nAdd a Plot\\n</td>\n",
       "    </tr>\n",
       "    <tr>\n",
       "      <th>freq</th>\n",
       "      <td>3</td>\n",
       "      <td>96</td>\n",
       "      <td>504</td>\n",
       "      <td>504</td>\n",
       "      <td>921</td>\n",
       "      <td>303</td>\n",
       "      <td>542</td>\n",
       "      <td>327</td>\n",
       "    </tr>\n",
       "  </tbody>\n",
       "</table>\n",
       "</div>"
      ],
      "text/plain": [
       "                 Title      Year Rating Votes:  Time  Genre Stars  \\\n",
       "count             1989      1978   1989   1989  1989   1989  1989   \n",
       "unique            1975       173     62    659    79    224  1445   \n",
       "top     Happy Together  (2021– )      -      -     -  Drama     -   \n",
       "freq                 3        96    504    504   921    303   542   \n",
       "\n",
       "           Short Story  \n",
       "count             1989  \n",
       "unique            1662  \n",
       "top     \\nAdd a Plot\\n  \n",
       "freq               327  "
      ]
     },
     "execution_count": 3,
     "metadata": {},
     "output_type": "execute_result"
    }
   ],
   "source": [
    "drama.describe()"
   ]
  },
  {
   "cell_type": "code",
   "execution_count": 4,
   "id": "5211f636",
   "metadata": {},
   "outputs": [
    {
     "name": "stdout",
     "output_type": "stream",
     "text": [
      "<class 'pandas.core.frame.DataFrame'>\n",
      "RangeIndex: 1989 entries, 0 to 1988\n",
      "Data columns (total 8 columns):\n",
      " #   Column       Non-Null Count  Dtype \n",
      "---  ------       --------------  ----- \n",
      " 0   Title        1989 non-null   object\n",
      " 1   Year         1978 non-null   object\n",
      " 2   Rating       1989 non-null   object\n",
      " 3   Votes:       1989 non-null   object\n",
      " 4   Time         1989 non-null   object\n",
      " 5   Genre        1989 non-null   object\n",
      " 6   Stars        1989 non-null   object\n",
      " 7   Short Story  1989 non-null   object\n",
      "dtypes: object(8)\n",
      "memory usage: 124.4+ KB\n"
     ]
    }
   ],
   "source": [
    "drama.info()"
   ]
  },
  {
   "cell_type": "markdown",
   "id": "1d2b0736",
   "metadata": {},
   "source": [
    "From the summaries above, there are some Null values as noted by the `Year` count not totaling 1,989. In addition, `Rating`, `Votes` and `Time` are expected to be numerical types but is currently an object type. This will be resolved in the next step of data cleanup.\n",
    "\n",
    "<hr>"
   ]
  },
  {
   "cell_type": "markdown",
   "id": "e573bfa3",
   "metadata": {},
   "source": [
    "### Data Cleanup"
   ]
  },
  {
   "cell_type": "markdown",
   "id": "fb273919",
   "metadata": {},
   "source": [
    "For the first step in the data cleanup, the Null values as identified in the previous step will be evaluated. We start by observing these Null values in the observations as follows: "
   ]
  },
  {
   "cell_type": "code",
   "execution_count": 5,
   "id": "d2a81d34",
   "metadata": {},
   "outputs": [
    {
     "data": {
      "text/html": [
       "<div>\n",
       "<style scoped>\n",
       "    .dataframe tbody tr th:only-of-type {\n",
       "        vertical-align: middle;\n",
       "    }\n",
       "\n",
       "    .dataframe tbody tr th {\n",
       "        vertical-align: top;\n",
       "    }\n",
       "\n",
       "    .dataframe thead th {\n",
       "        text-align: right;\n",
       "    }\n",
       "</style>\n",
       "<table border=\"1\" class=\"dataframe\">\n",
       "  <thead>\n",
       "    <tr style=\"text-align: right;\">\n",
       "      <th></th>\n",
       "      <th>Title</th>\n",
       "      <th>Year</th>\n",
       "      <th>Rating</th>\n",
       "      <th>Votes:</th>\n",
       "      <th>Time</th>\n",
       "      <th>Genre</th>\n",
       "      <th>Stars</th>\n",
       "      <th>Short Story</th>\n",
       "    </tr>\n",
       "  </thead>\n",
       "  <tbody>\n",
       "    <tr>\n",
       "      <th>497</th>\n",
       "      <td>Suriname</td>\n",
       "      <td>NaN</td>\n",
       "      <td>-</td>\n",
       "      <td>-</td>\n",
       "      <td>-</td>\n",
       "      <td>Biography, Crime, Drama</td>\n",
       "      <td>-</td>\n",
       "      <td>\\nBased on the true story of a Korean man who ...</td>\n",
       "    </tr>\n",
       "    <tr>\n",
       "      <th>569</th>\n",
       "      <td>The Sound of Magic</td>\n",
       "      <td>NaN</td>\n",
       "      <td>-</td>\n",
       "      <td>-</td>\n",
       "      <td>-</td>\n",
       "      <td>Drama</td>\n",
       "      <td>-</td>\n",
       "      <td>\\nWhen she was little, Yun Ai dreamed of becom...</td>\n",
       "    </tr>\n",
       "    <tr>\n",
       "      <th>1152</th>\n",
       "      <td>American Seoul</td>\n",
       "      <td>NaN</td>\n",
       "      <td>-</td>\n",
       "      <td>-</td>\n",
       "      <td>-</td>\n",
       "      <td>Drama</td>\n",
       "      <td>-</td>\n",
       "      <td>\\nFollows a young Korean-American adoptee who ...</td>\n",
       "    </tr>\n",
       "    <tr>\n",
       "      <th>1375</th>\n",
       "      <td>Criminal Justice</td>\n",
       "      <td>NaN</td>\n",
       "      <td>-</td>\n",
       "      <td>-</td>\n",
       "      <td>-</td>\n",
       "      <td>Crime, Drama</td>\n",
       "      <td>-</td>\n",
       "      <td>\\nKorean adaptation of BBC Studios' crime seri...</td>\n",
       "    </tr>\n",
       "    <tr>\n",
       "      <th>1484</th>\n",
       "      <td>Remarriage &amp; Desires</td>\n",
       "      <td>NaN</td>\n",
       "      <td>-</td>\n",
       "      <td>-</td>\n",
       "      <td>-</td>\n",
       "      <td>Drama</td>\n",
       "      <td>-</td>\n",
       "      <td>\\nSet at the exclusive matchmaking agency Rex ...</td>\n",
       "    </tr>\n",
       "    <tr>\n",
       "      <th>1495</th>\n",
       "      <td>Queen of the Scene</td>\n",
       "      <td>NaN</td>\n",
       "      <td>-</td>\n",
       "      <td>-</td>\n",
       "      <td>-</td>\n",
       "      <td>Drama</td>\n",
       "      <td>-</td>\n",
       "      <td>\\nQueen of the Scene tells the story of a Kore...</td>\n",
       "    </tr>\n",
       "    <tr>\n",
       "      <th>1660</th>\n",
       "      <td>Four Men</td>\n",
       "      <td>NaN</td>\n",
       "      <td>-</td>\n",
       "      <td>-</td>\n",
       "      <td>-</td>\n",
       "      <td>Mystery, Romance</td>\n",
       "      <td>-</td>\n",
       "      <td>\\nAdd a Plot\\n</td>\n",
       "    </tr>\n",
       "    <tr>\n",
       "      <th>1663</th>\n",
       "      <td>Power Panda Posse</td>\n",
       "      <td>NaN</td>\n",
       "      <td>-</td>\n",
       "      <td>-</td>\n",
       "      <td>-</td>\n",
       "      <td>Animation</td>\n",
       "      <td>-</td>\n",
       "      <td>\\nAdd a Plot\\n</td>\n",
       "    </tr>\n",
       "    <tr>\n",
       "      <th>1888</th>\n",
       "      <td>What AM I made of?</td>\n",
       "      <td>NaN</td>\n",
       "      <td>-</td>\n",
       "      <td>-</td>\n",
       "      <td>-</td>\n",
       "      <td>Documentary, Biography</td>\n",
       "      <td>-</td>\n",
       "      <td>\\nWhat if we tell you that all the necessary c...</td>\n",
       "    </tr>\n",
       "    <tr>\n",
       "      <th>1926</th>\n",
       "      <td>Close to the Flame</td>\n",
       "      <td>NaN</td>\n",
       "      <td>-</td>\n",
       "      <td>-</td>\n",
       "      <td>-</td>\n",
       "      <td>Action, Thriller</td>\n",
       "      <td>-</td>\n",
       "      <td>\\nAdd a Plot\\n</td>\n",
       "    </tr>\n",
       "    <tr>\n",
       "      <th>1984</th>\n",
       "      <td>Untitled K-Pop Latin American Project</td>\n",
       "      <td>NaN</td>\n",
       "      <td>-</td>\n",
       "      <td>-</td>\n",
       "      <td>-</td>\n",
       "      <td>Reality-TV</td>\n",
       "      <td>-</td>\n",
       "      <td>\\nYoung men from Latin America audition for an...</td>\n",
       "    </tr>\n",
       "  </tbody>\n",
       "</table>\n",
       "</div>"
      ],
      "text/plain": [
       "                                      Title Year Rating Votes: Time  \\\n",
       "497                                Suriname  NaN      -      -    -   \n",
       "569                      The Sound of Magic  NaN      -      -    -   \n",
       "1152                         American Seoul  NaN      -      -    -   \n",
       "1375                       Criminal Justice  NaN      -      -    -   \n",
       "1484                   Remarriage & Desires  NaN      -      -    -   \n",
       "1495                     Queen of the Scene  NaN      -      -    -   \n",
       "1660                               Four Men  NaN      -      -    -   \n",
       "1663                      Power Panda Posse  NaN      -      -    -   \n",
       "1888                     What AM I made of?  NaN      -      -    -   \n",
       "1926                     Close to the Flame  NaN      -      -    -   \n",
       "1984  Untitled K-Pop Latin American Project  NaN      -      -    -   \n",
       "\n",
       "                        Genre Stars  \\\n",
       "497   Biography, Crime, Drama     -   \n",
       "569                     Drama     -   \n",
       "1152                    Drama     -   \n",
       "1375             Crime, Drama     -   \n",
       "1484                    Drama     -   \n",
       "1495                    Drama     -   \n",
       "1660         Mystery, Romance     -   \n",
       "1663                Animation     -   \n",
       "1888   Documentary, Biography     -   \n",
       "1926         Action, Thriller     -   \n",
       "1984               Reality-TV     -   \n",
       "\n",
       "                                            Short Story  \n",
       "497   \\nBased on the true story of a Korean man who ...  \n",
       "569   \\nWhen she was little, Yun Ai dreamed of becom...  \n",
       "1152  \\nFollows a young Korean-American adoptee who ...  \n",
       "1375  \\nKorean adaptation of BBC Studios' crime seri...  \n",
       "1484  \\nSet at the exclusive matchmaking agency Rex ...  \n",
       "1495  \\nQueen of the Scene tells the story of a Kore...  \n",
       "1660                                     \\nAdd a Plot\\n  \n",
       "1663                                     \\nAdd a Plot\\n  \n",
       "1888  \\nWhat if we tell you that all the necessary c...  \n",
       "1926                                     \\nAdd a Plot\\n  \n",
       "1984  \\nYoung men from Latin America audition for an...  "
      ]
     },
     "execution_count": 5,
     "metadata": {},
     "output_type": "execute_result"
    }
   ],
   "source": [
    "drama.loc[drama['Year'].isnull()]"
   ]
  },
  {
   "cell_type": "markdown",
   "id": "d76e5dd0",
   "metadata": {},
   "source": [
    "It could be easy enough for us to identify the year in which these dramas came out, but for this exercise, we will remove these observations instead of imputing them. More interestingly though, there are also no values inputted for `Rating`, `Votes`, `Time`, `Stars` and some are missing story plots. Pandas is recognizing the '-' and '/nAdd a Plot/n' as values (which makes sense given the object data type).\n",
    "\n",
    "For this project, `Year` and `Time` has no bearing to the end product of my Recommender System so will be removed in its entirety. I want to create a new column, `bagofwords`, that contains the `Genre`, `Stars`, and `Short Story` tokens. We will start by removing the `Year` and `Time` column and than set about looking at missing data in the relevant columns. "
   ]
  },
  {
   "cell_type": "code",
   "execution_count": 6,
   "id": "5e84c0f2",
   "metadata": {},
   "outputs": [
    {
     "data": {
      "text/html": [
       "<div>\n",
       "<style scoped>\n",
       "    .dataframe tbody tr th:only-of-type {\n",
       "        vertical-align: middle;\n",
       "    }\n",
       "\n",
       "    .dataframe tbody tr th {\n",
       "        vertical-align: top;\n",
       "    }\n",
       "\n",
       "    .dataframe thead th {\n",
       "        text-align: right;\n",
       "    }\n",
       "</style>\n",
       "<table border=\"1\" class=\"dataframe\">\n",
       "  <thead>\n",
       "    <tr style=\"text-align: right;\">\n",
       "      <th></th>\n",
       "      <th>Title</th>\n",
       "      <th>Rating</th>\n",
       "      <th>Votes:</th>\n",
       "      <th>Genre</th>\n",
       "      <th>Stars</th>\n",
       "      <th>Short Story</th>\n",
       "    </tr>\n",
       "  </thead>\n",
       "  <tbody>\n",
       "    <tr>\n",
       "      <th>0</th>\n",
       "      <td>Hellbound</td>\n",
       "      <td>6.7</td>\n",
       "      <td>14,032</td>\n",
       "      <td>Crime, Drama, Fantasy</td>\n",
       "      <td>Yoo Ah-in, Kim Hyun-joo, Jeong Min Park, Jin-a...</td>\n",
       "      <td>\\nPeople hear predictions on when they will di...</td>\n",
       "    </tr>\n",
       "    <tr>\n",
       "      <th>1</th>\n",
       "      <td>Squid Game</td>\n",
       "      <td>8.1</td>\n",
       "      <td>339,931</td>\n",
       "      <td>Action, Drama, Mystery</td>\n",
       "      <td>Lee Jung-jae, Park Hae-soo, Wi Ha-Joon, Jung H...</td>\n",
       "      <td>\\nHundreds of cash-strapped players accept a s...</td>\n",
       "    </tr>\n",
       "    <tr>\n",
       "      <th>2</th>\n",
       "      <td>My Name</td>\n",
       "      <td>7.9</td>\n",
       "      <td>12,877</td>\n",
       "      <td>Action, Crime, Drama</td>\n",
       "      <td>Hee-soon Park, Ahn Bo-Hyun, Han So-hee, Kim Sa...</td>\n",
       "      <td>\\nThe story about a woman who joins an organiz...</td>\n",
       "    </tr>\n",
       "    <tr>\n",
       "      <th>3</th>\n",
       "      <td>Miraculous: Tales of Ladybug &amp; Cat Noir</td>\n",
       "      <td>7.7</td>\n",
       "      <td>9,439</td>\n",
       "      <td>Animation, Action, Adventure</td>\n",
       "      <td>Cristina Valenzuela, Bryce Papenbrook, Keith S...</td>\n",
       "      <td>\\nMarinette and Adrien, two normal teens, tran...</td>\n",
       "    </tr>\n",
       "    <tr>\n",
       "      <th>4</th>\n",
       "      <td>Happiness</td>\n",
       "      <td>8.6</td>\n",
       "      <td>921</td>\n",
       "      <td>Action, Fantasy, Thriller</td>\n",
       "      <td>Han Hyo-joo, Park Hyung-Sik, Woo-jin Jo, Lee J...</td>\n",
       "      <td>\\nAn apocalyptic thriller that takes place in ...</td>\n",
       "    </tr>\n",
       "  </tbody>\n",
       "</table>\n",
       "</div>"
      ],
      "text/plain": [
       "                                     Title Rating   Votes:  \\\n",
       "0                                Hellbound    6.7   14,032   \n",
       "1                               Squid Game    8.1  339,931   \n",
       "2                                  My Name    7.9   12,877   \n",
       "3  Miraculous: Tales of Ladybug & Cat Noir    7.7    9,439   \n",
       "4                                Happiness    8.6      921   \n",
       "\n",
       "                          Genre  \\\n",
       "0         Crime, Drama, Fantasy   \n",
       "1        Action, Drama, Mystery   \n",
       "2          Action, Crime, Drama   \n",
       "3  Animation, Action, Adventure   \n",
       "4     Action, Fantasy, Thriller   \n",
       "\n",
       "                                               Stars  \\\n",
       "0  Yoo Ah-in, Kim Hyun-joo, Jeong Min Park, Jin-a...   \n",
       "1  Lee Jung-jae, Park Hae-soo, Wi Ha-Joon, Jung H...   \n",
       "2  Hee-soon Park, Ahn Bo-Hyun, Han So-hee, Kim Sa...   \n",
       "3  Cristina Valenzuela, Bryce Papenbrook, Keith S...   \n",
       "4  Han Hyo-joo, Park Hyung-Sik, Woo-jin Jo, Lee J...   \n",
       "\n",
       "                                         Short Story  \n",
       "0  \\nPeople hear predictions on when they will di...  \n",
       "1  \\nHundreds of cash-strapped players accept a s...  \n",
       "2  \\nThe story about a woman who joins an organiz...  \n",
       "3  \\nMarinette and Adrien, two normal teens, tran...  \n",
       "4  \\nAn apocalyptic thriller that takes place in ...  "
      ]
     },
     "execution_count": 6,
     "metadata": {},
     "output_type": "execute_result"
    }
   ],
   "source": [
    "drama = drama.drop(columns=['Year','Time'])\n",
    "drama.head()"
   ]
  },
  {
   "cell_type": "markdown",
   "id": "56795bc6",
   "metadata": {},
   "source": [
    "Now, let's take a look where the plot is missing in the dataset."
   ]
  },
  {
   "cell_type": "code",
   "execution_count": 7,
   "id": "9e16b608",
   "metadata": {},
   "outputs": [
    {
     "name": "stdout",
     "output_type": "stream",
     "text": [
      "Missing Plots: 327\n"
     ]
    }
   ],
   "source": [
    "#missing short story\n",
    "print(\"Missing Plots:\",drama['Short Story'][drama['Short Story']=='\\nAdd a Plot\\n'].count())"
   ]
  },
  {
   "cell_type": "markdown",
   "id": "49c39603",
   "metadata": {},
   "source": [
    "There are 327 observations with missing plots for the dramas. This is a critical component of the `bagofwords` column we want to create. Though we could Google the plots for these dramas, I have chosen to remove these observations from the dataframe. "
   ]
  },
  {
   "cell_type": "code",
   "execution_count": 8,
   "id": "76147544",
   "metadata": {},
   "outputs": [
    {
     "name": "stdout",
     "output_type": "stream",
     "text": [
      "Number of observations: 1662\n"
     ]
    }
   ],
   "source": [
    "#assign to new dataframe should we decide to go back and impute these later\n",
    "drama2 = drama.loc[drama['Short Story']!='\\nAdd a Plot\\n']\n",
    "\n",
    "#sanity check\n",
    "drama2.head()\n",
    "print('Number of observations:',drama2['Title'].count())"
   ]
  },
  {
   "cell_type": "markdown",
   "id": "524acd14",
   "metadata": {},
   "source": [
    "Looks like the changes took hold. In addition, we see that the `Short Story` description starts with a '\\n'. We will want remove this, make all words lowercase and punctuations like ',' and '.' from the column as follows: "
   ]
  },
  {
   "cell_type": "code",
   "execution_count": 9,
   "id": "5b29f0ed",
   "metadata": {},
   "outputs": [
    {
     "data": {
      "text/plain": [
       "0    people hear predictions on when they will die ...\n",
       "1    hundreds of cash-strapped players accept a str...\n",
       "2    the story about a woman who joins an organized...\n",
       "3    marinette and adrien two normal teens transfor...\n",
       "4    an apocalyptic thriller that takes place in a ...\n",
       "Name: Short Story, dtype: object"
      ]
     },
     "execution_count": 9,
     "metadata": {},
     "output_type": "execute_result"
    }
   ],
   "source": [
    "drama2['Short Story'] = drama2[\"Short Story\"].str.replace(\"\\n\", \"\")\n",
    "drama2['Short Story'] = drama2['Short Story'].str.replace('.','')\n",
    "drama2['Short Story'] = drama2['Short Story'].str.replace(',','')\n",
    "drama2['Short Story'] = drama2['Short Story'].str.lower()\n",
    "\n",
    "#sanity check\n",
    "drama2['Short Story'].head()"
   ]
  },
  {
   "cell_type": "markdown",
   "id": "e7743c10",
   "metadata": {},
   "source": [
    "Now that we've cleaned up the `Short Story` description to our liking, I want to tokenize the words into a new column `plot_token` and remove the original column as follows:"
   ]
  },
  {
   "cell_type": "code",
   "execution_count": 10,
   "id": "62a92ed3",
   "metadata": {},
   "outputs": [
    {
     "data": {
      "text/html": [
       "<div>\n",
       "<style scoped>\n",
       "    .dataframe tbody tr th:only-of-type {\n",
       "        vertical-align: middle;\n",
       "    }\n",
       "\n",
       "    .dataframe tbody tr th {\n",
       "        vertical-align: top;\n",
       "    }\n",
       "\n",
       "    .dataframe thead th {\n",
       "        text-align: right;\n",
       "    }\n",
       "</style>\n",
       "<table border=\"1\" class=\"dataframe\">\n",
       "  <thead>\n",
       "    <tr style=\"text-align: right;\">\n",
       "      <th></th>\n",
       "      <th>Title</th>\n",
       "      <th>Rating</th>\n",
       "      <th>Votes:</th>\n",
       "      <th>Genre</th>\n",
       "      <th>Stars</th>\n",
       "      <th>plot_token</th>\n",
       "    </tr>\n",
       "  </thead>\n",
       "  <tbody>\n",
       "    <tr>\n",
       "      <th>0</th>\n",
       "      <td>Hellbound</td>\n",
       "      <td>6.7</td>\n",
       "      <td>14,032</td>\n",
       "      <td>Crime, Drama, Fantasy</td>\n",
       "      <td>Yoo Ah-in, Kim Hyun-joo, Jeong Min Park, Jin-a...</td>\n",
       "      <td>[people, hear, predictions, on, when, they, wi...</td>\n",
       "    </tr>\n",
       "    <tr>\n",
       "      <th>1</th>\n",
       "      <td>Squid Game</td>\n",
       "      <td>8.1</td>\n",
       "      <td>339,931</td>\n",
       "      <td>Action, Drama, Mystery</td>\n",
       "      <td>Lee Jung-jae, Park Hae-soo, Wi Ha-Joon, Jung H...</td>\n",
       "      <td>[hundreds, of, cash-strapped, players, accept,...</td>\n",
       "    </tr>\n",
       "    <tr>\n",
       "      <th>2</th>\n",
       "      <td>My Name</td>\n",
       "      <td>7.9</td>\n",
       "      <td>12,877</td>\n",
       "      <td>Action, Crime, Drama</td>\n",
       "      <td>Hee-soon Park, Ahn Bo-Hyun, Han So-hee, Kim Sa...</td>\n",
       "      <td>[the, story, about, a, woman, who, joins, an, ...</td>\n",
       "    </tr>\n",
       "    <tr>\n",
       "      <th>3</th>\n",
       "      <td>Miraculous: Tales of Ladybug &amp; Cat Noir</td>\n",
       "      <td>7.7</td>\n",
       "      <td>9,439</td>\n",
       "      <td>Animation, Action, Adventure</td>\n",
       "      <td>Cristina Valenzuela, Bryce Papenbrook, Keith S...</td>\n",
       "      <td>[marinette, and, adrien, two, normal, teens, t...</td>\n",
       "    </tr>\n",
       "    <tr>\n",
       "      <th>4</th>\n",
       "      <td>Happiness</td>\n",
       "      <td>8.6</td>\n",
       "      <td>921</td>\n",
       "      <td>Action, Fantasy, Thriller</td>\n",
       "      <td>Han Hyo-joo, Park Hyung-Sik, Woo-jin Jo, Lee J...</td>\n",
       "      <td>[an, apocalyptic, thriller, that, takes, place...</td>\n",
       "    </tr>\n",
       "  </tbody>\n",
       "</table>\n",
       "</div>"
      ],
      "text/plain": [
       "                                     Title Rating   Votes:  \\\n",
       "0                                Hellbound    6.7   14,032   \n",
       "1                               Squid Game    8.1  339,931   \n",
       "2                                  My Name    7.9   12,877   \n",
       "3  Miraculous: Tales of Ladybug & Cat Noir    7.7    9,439   \n",
       "4                                Happiness    8.6      921   \n",
       "\n",
       "                          Genre  \\\n",
       "0         Crime, Drama, Fantasy   \n",
       "1        Action, Drama, Mystery   \n",
       "2          Action, Crime, Drama   \n",
       "3  Animation, Action, Adventure   \n",
       "4     Action, Fantasy, Thriller   \n",
       "\n",
       "                                               Stars  \\\n",
       "0  Yoo Ah-in, Kim Hyun-joo, Jeong Min Park, Jin-a...   \n",
       "1  Lee Jung-jae, Park Hae-soo, Wi Ha-Joon, Jung H...   \n",
       "2  Hee-soon Park, Ahn Bo-Hyun, Han So-hee, Kim Sa...   \n",
       "3  Cristina Valenzuela, Bryce Papenbrook, Keith S...   \n",
       "4  Han Hyo-joo, Park Hyung-Sik, Woo-jin Jo, Lee J...   \n",
       "\n",
       "                                          plot_token  \n",
       "0  [people, hear, predictions, on, when, they, wi...  \n",
       "1  [hundreds, of, cash-strapped, players, accept,...  \n",
       "2  [the, story, about, a, woman, who, joins, an, ...  \n",
       "3  [marinette, and, adrien, two, normal, teens, t...  \n",
       "4  [an, apocalyptic, thriller, that, takes, place...  "
      ]
     },
     "execution_count": 10,
     "metadata": {},
     "output_type": "execute_result"
    }
   ],
   "source": [
    "drama2['plot_token'] = drama2['Short Story'].str.split(' ')\n",
    "drama2.drop(columns='Short Story', inplace=True)\n",
    "\n",
    "drama2.head()"
   ]
  },
  {
   "cell_type": "markdown",
   "id": "e75e2122",
   "metadata": {},
   "source": [
    "Similar to what was done for the `Short Story` column, we want to clean and tokenize the `Stars` and `Genre` columns. We first need to identify if there are any missing entries for the observations as follows: "
   ]
  },
  {
   "cell_type": "code",
   "execution_count": 11,
   "id": "9be2b8a2",
   "metadata": {},
   "outputs": [
    {
     "name": "stdout",
     "output_type": "stream",
     "text": [
      "Missing Genre: 69\n",
      "Missing Stars: 347\n"
     ]
    }
   ],
   "source": [
    "#missing genre's\n",
    "print(\"Missing Genre:\",drama2['Genre'][drama2['Genre']=='-'].count())\n",
    "#missing stars\n",
    "print(\"Missing Stars:\",drama2['Stars'][drama2['Stars']=='-'].count())"
   ]
  },
  {
   "cell_type": "markdown",
   "id": "53ab61db",
   "metadata": {},
   "source": [
    "As before, we will remove these observations from the set even though we could probably impute them with a Google search. Instead of removing the observations, we will remove the '-' and instead leave it empty. The majority of `bagofwords` column to be created should come from the plot anyways. "
   ]
  },
  {
   "cell_type": "code",
   "execution_count": 12,
   "id": "fb5428e9",
   "metadata": {},
   "outputs": [
    {
     "data": {
      "text/html": [
       "<div>\n",
       "<style scoped>\n",
       "    .dataframe tbody tr th:only-of-type {\n",
       "        vertical-align: middle;\n",
       "    }\n",
       "\n",
       "    .dataframe tbody tr th {\n",
       "        vertical-align: top;\n",
       "    }\n",
       "\n",
       "    .dataframe thead th {\n",
       "        text-align: right;\n",
       "    }\n",
       "</style>\n",
       "<table border=\"1\" class=\"dataframe\">\n",
       "  <thead>\n",
       "    <tr style=\"text-align: right;\">\n",
       "      <th></th>\n",
       "      <th>Title</th>\n",
       "      <th>Rating</th>\n",
       "      <th>Votes:</th>\n",
       "      <th>Stars</th>\n",
       "      <th>plot_token</th>\n",
       "      <th>genre_token</th>\n",
       "    </tr>\n",
       "  </thead>\n",
       "  <tbody>\n",
       "    <tr>\n",
       "      <th>0</th>\n",
       "      <td>Hellbound</td>\n",
       "      <td>6.7</td>\n",
       "      <td>14,032</td>\n",
       "      <td>Yoo Ah-in, Kim Hyun-joo, Jeong Min Park, Jin-a...</td>\n",
       "      <td>[people, hear, predictions, on, when, they, wi...</td>\n",
       "      <td>[crime, drama, fantasy]</td>\n",
       "    </tr>\n",
       "    <tr>\n",
       "      <th>1</th>\n",
       "      <td>Squid Game</td>\n",
       "      <td>8.1</td>\n",
       "      <td>339,931</td>\n",
       "      <td>Lee Jung-jae, Park Hae-soo, Wi Ha-Joon, Jung H...</td>\n",
       "      <td>[hundreds, of, cash-strapped, players, accept,...</td>\n",
       "      <td>[action, drama, mystery]</td>\n",
       "    </tr>\n",
       "    <tr>\n",
       "      <th>2</th>\n",
       "      <td>My Name</td>\n",
       "      <td>7.9</td>\n",
       "      <td>12,877</td>\n",
       "      <td>Hee-soon Park, Ahn Bo-Hyun, Han So-hee, Kim Sa...</td>\n",
       "      <td>[the, story, about, a, woman, who, joins, an, ...</td>\n",
       "      <td>[action, crime, drama]</td>\n",
       "    </tr>\n",
       "    <tr>\n",
       "      <th>3</th>\n",
       "      <td>Miraculous: Tales of Ladybug &amp; Cat Noir</td>\n",
       "      <td>7.7</td>\n",
       "      <td>9,439</td>\n",
       "      <td>Cristina Valenzuela, Bryce Papenbrook, Keith S...</td>\n",
       "      <td>[marinette, and, adrien, two, normal, teens, t...</td>\n",
       "      <td>[animation, action, adventure]</td>\n",
       "    </tr>\n",
       "    <tr>\n",
       "      <th>4</th>\n",
       "      <td>Happiness</td>\n",
       "      <td>8.6</td>\n",
       "      <td>921</td>\n",
       "      <td>Han Hyo-joo, Park Hyung-Sik, Woo-jin Jo, Lee J...</td>\n",
       "      <td>[an, apocalyptic, thriller, that, takes, place...</td>\n",
       "      <td>[action, fantasy, thriller]</td>\n",
       "    </tr>\n",
       "  </tbody>\n",
       "</table>\n",
       "</div>"
      ],
      "text/plain": [
       "                                     Title Rating   Votes:  \\\n",
       "0                                Hellbound    6.7   14,032   \n",
       "1                               Squid Game    8.1  339,931   \n",
       "2                                  My Name    7.9   12,877   \n",
       "3  Miraculous: Tales of Ladybug & Cat Noir    7.7    9,439   \n",
       "4                                Happiness    8.6      921   \n",
       "\n",
       "                                               Stars  \\\n",
       "0  Yoo Ah-in, Kim Hyun-joo, Jeong Min Park, Jin-a...   \n",
       "1  Lee Jung-jae, Park Hae-soo, Wi Ha-Joon, Jung H...   \n",
       "2  Hee-soon Park, Ahn Bo-Hyun, Han So-hee, Kim Sa...   \n",
       "3  Cristina Valenzuela, Bryce Papenbrook, Keith S...   \n",
       "4  Han Hyo-joo, Park Hyung-Sik, Woo-jin Jo, Lee J...   \n",
       "\n",
       "                                          plot_token  \\\n",
       "0  [people, hear, predictions, on, when, they, wi...   \n",
       "1  [hundreds, of, cash-strapped, players, accept,...   \n",
       "2  [the, story, about, a, woman, who, joins, an, ...   \n",
       "3  [marinette, and, adrien, two, normal, teens, t...   \n",
       "4  [an, apocalyptic, thriller, that, takes, place...   \n",
       "\n",
       "                      genre_token  \n",
       "0         [crime, drama, fantasy]  \n",
       "1        [action, drama, mystery]  \n",
       "2          [action, crime, drama]  \n",
       "3  [animation, action, adventure]  \n",
       "4     [action, fantasy, thriller]  "
      ]
     },
     "execution_count": 12,
     "metadata": {},
     "output_type": "execute_result"
    }
   ],
   "source": [
    "#remove '-' and lowercase Genre\n",
    "drama2['Genre'] = drama2[\"Genre\"].str.replace(\"-\", \"\")\n",
    "drama2['Genre'] = drama2['Genre'].str.replace(',','')\n",
    "drama2['Genre'] = drama2['Genre'].str.lower()\n",
    "\n",
    "#tokenize and remove original column\n",
    "drama2['genre_token'] = drama2['Genre'].str.split(' ')\n",
    "drama2.drop(columns='Genre', inplace=True)\n",
    "\n",
    "drama2.head()"
   ]
  },
  {
   "cell_type": "code",
   "execution_count": 13,
   "id": "33beb1a9",
   "metadata": {},
   "outputs": [
    {
     "data": {
      "text/html": [
       "<div>\n",
       "<style scoped>\n",
       "    .dataframe tbody tr th:only-of-type {\n",
       "        vertical-align: middle;\n",
       "    }\n",
       "\n",
       "    .dataframe tbody tr th {\n",
       "        vertical-align: top;\n",
       "    }\n",
       "\n",
       "    .dataframe thead th {\n",
       "        text-align: right;\n",
       "    }\n",
       "</style>\n",
       "<table border=\"1\" class=\"dataframe\">\n",
       "  <thead>\n",
       "    <tr style=\"text-align: right;\">\n",
       "      <th></th>\n",
       "      <th>Title</th>\n",
       "      <th>Rating</th>\n",
       "      <th>Votes:</th>\n",
       "      <th>plot_token</th>\n",
       "      <th>genre_token</th>\n",
       "      <th>stars_token</th>\n",
       "    </tr>\n",
       "  </thead>\n",
       "  <tbody>\n",
       "    <tr>\n",
       "      <th>0</th>\n",
       "      <td>Hellbound</td>\n",
       "      <td>6.7</td>\n",
       "      <td>14,032</td>\n",
       "      <td>[people, hear, predictions, on, when, they, wi...</td>\n",
       "      <td>[crime, drama, fantasy]</td>\n",
       "      <td>[yooahin, kimhyunjoo, jeongminpark, jinahwon]</td>\n",
       "    </tr>\n",
       "    <tr>\n",
       "      <th>1</th>\n",
       "      <td>Squid Game</td>\n",
       "      <td>8.1</td>\n",
       "      <td>339,931</td>\n",
       "      <td>[hundreds, of, cash-strapped, players, accept,...</td>\n",
       "      <td>[action, drama, mystery]</td>\n",
       "      <td>[leejungjae, parkhaesoo, wihajoon, junghoyeon]</td>\n",
       "    </tr>\n",
       "    <tr>\n",
       "      <th>2</th>\n",
       "      <td>My Name</td>\n",
       "      <td>7.9</td>\n",
       "      <td>12,877</td>\n",
       "      <td>[the, story, about, a, woman, who, joins, an, ...</td>\n",
       "      <td>[action, crime, drama]</td>\n",
       "      <td>[heesoonpark, ahnbohyun, hansohee, kimsangho]</td>\n",
       "    </tr>\n",
       "    <tr>\n",
       "      <th>3</th>\n",
       "      <td>Miraculous: Tales of Ladybug &amp; Cat Noir</td>\n",
       "      <td>7.7</td>\n",
       "      <td>9,439</td>\n",
       "      <td>[marinette, and, adrien, two, normal, teens, t...</td>\n",
       "      <td>[animation, action, adventure]</td>\n",
       "      <td>[cristinavalenzuela, brycepapenbrook, keithsil...</td>\n",
       "    </tr>\n",
       "    <tr>\n",
       "      <th>4</th>\n",
       "      <td>Happiness</td>\n",
       "      <td>8.6</td>\n",
       "      <td>921</td>\n",
       "      <td>[an, apocalyptic, thriller, that, takes, place...</td>\n",
       "      <td>[action, fantasy, thriller]</td>\n",
       "      <td>[hanhyojoo, parkhyungsik, woojinjo, leejoonhyuk]</td>\n",
       "    </tr>\n",
       "  </tbody>\n",
       "</table>\n",
       "</div>"
      ],
      "text/plain": [
       "                                     Title Rating   Votes:  \\\n",
       "0                                Hellbound    6.7   14,032   \n",
       "1                               Squid Game    8.1  339,931   \n",
       "2                                  My Name    7.9   12,877   \n",
       "3  Miraculous: Tales of Ladybug & Cat Noir    7.7    9,439   \n",
       "4                                Happiness    8.6      921   \n",
       "\n",
       "                                          plot_token  \\\n",
       "0  [people, hear, predictions, on, when, they, wi...   \n",
       "1  [hundreds, of, cash-strapped, players, accept,...   \n",
       "2  [the, story, about, a, woman, who, joins, an, ...   \n",
       "3  [marinette, and, adrien, two, normal, teens, t...   \n",
       "4  [an, apocalyptic, thriller, that, takes, place...   \n",
       "\n",
       "                      genre_token  \\\n",
       "0         [crime, drama, fantasy]   \n",
       "1        [action, drama, mystery]   \n",
       "2          [action, crime, drama]   \n",
       "3  [animation, action, adventure]   \n",
       "4     [action, fantasy, thriller]   \n",
       "\n",
       "                                         stars_token  \n",
       "0      [yooahin, kimhyunjoo, jeongminpark, jinahwon]  \n",
       "1     [leejungjae, parkhaesoo, wihajoon, junghoyeon]  \n",
       "2      [heesoonpark, ahnbohyun, hansohee, kimsangho]  \n",
       "3  [cristinavalenzuela, brycepapenbrook, keithsil...  \n",
       "4   [hanhyojoo, parkhyungsik, woojinjo, leejoonhyuk]  "
      ]
     },
     "execution_count": 13,
     "metadata": {},
     "output_type": "execute_result"
    }
   ],
   "source": [
    "#remove '-', ',' and lowercase Stars\n",
    "drama2['Stars'] = drama2[\"Stars\"].str.replace(\"-\", \"\")\n",
    "drama2['Stars'] = drama2[\"Stars\"].str.replace(\" \", \"\")\n",
    "drama2['Stars'] = drama2['Stars'].str.lower()\n",
    "\n",
    "#tokenize and remove original column\n",
    "drama2['stars_token'] = drama2['Stars'].str.split(',')\n",
    "drama2.drop(columns='Stars', inplace=True)\n",
    "\n",
    "drama2.head()"
   ]
  },
  {
   "cell_type": "markdown",
   "id": "e3484651",
   "metadata": {},
   "source": [
    "Now that the columns have been tokenized, we can proceed to create our `bagofwords` column and droppping the individual columns as follows:"
   ]
  },
  {
   "cell_type": "code",
   "execution_count": 14,
   "id": "1edc7579",
   "metadata": {},
   "outputs": [
    {
     "data": {
      "text/html": [
       "<div>\n",
       "<style scoped>\n",
       "    .dataframe tbody tr th:only-of-type {\n",
       "        vertical-align: middle;\n",
       "    }\n",
       "\n",
       "    .dataframe tbody tr th {\n",
       "        vertical-align: top;\n",
       "    }\n",
       "\n",
       "    .dataframe thead th {\n",
       "        text-align: right;\n",
       "    }\n",
       "</style>\n",
       "<table border=\"1\" class=\"dataframe\">\n",
       "  <thead>\n",
       "    <tr style=\"text-align: right;\">\n",
       "      <th></th>\n",
       "      <th>Title</th>\n",
       "      <th>Rating</th>\n",
       "      <th>Votes:</th>\n",
       "      <th>bagofwords</th>\n",
       "    </tr>\n",
       "  </thead>\n",
       "  <tbody>\n",
       "    <tr>\n",
       "      <th>0</th>\n",
       "      <td>Hellbound</td>\n",
       "      <td>6.7</td>\n",
       "      <td>14,032</td>\n",
       "      <td>people hear predictions on when they will die ...</td>\n",
       "    </tr>\n",
       "    <tr>\n",
       "      <th>1</th>\n",
       "      <td>Squid Game</td>\n",
       "      <td>8.1</td>\n",
       "      <td>339,931</td>\n",
       "      <td>hundreds of cash-strapped players accept a str...</td>\n",
       "    </tr>\n",
       "    <tr>\n",
       "      <th>2</th>\n",
       "      <td>My Name</td>\n",
       "      <td>7.9</td>\n",
       "      <td>12,877</td>\n",
       "      <td>the story about a woman who joins an organized...</td>\n",
       "    </tr>\n",
       "    <tr>\n",
       "      <th>3</th>\n",
       "      <td>Miraculous: Tales of Ladybug &amp; Cat Noir</td>\n",
       "      <td>7.7</td>\n",
       "      <td>9,439</td>\n",
       "      <td>marinette and adrien two normal teens transfor...</td>\n",
       "    </tr>\n",
       "    <tr>\n",
       "      <th>4</th>\n",
       "      <td>Happiness</td>\n",
       "      <td>8.6</td>\n",
       "      <td>921</td>\n",
       "      <td>an apocalyptic thriller that takes place in a ...</td>\n",
       "    </tr>\n",
       "  </tbody>\n",
       "</table>\n",
       "</div>"
      ],
      "text/plain": [
       "                                     Title Rating   Votes:  \\\n",
       "0                                Hellbound    6.7   14,032   \n",
       "1                               Squid Game    8.1  339,931   \n",
       "2                                  My Name    7.9   12,877   \n",
       "3  Miraculous: Tales of Ladybug & Cat Noir    7.7    9,439   \n",
       "4                                Happiness    8.6      921   \n",
       "\n",
       "                                          bagofwords  \n",
       "0  people hear predictions on when they will die ...  \n",
       "1  hundreds of cash-strapped players accept a str...  \n",
       "2  the story about a woman who joins an organized...  \n",
       "3  marinette and adrien two normal teens transfor...  \n",
       "4  an apocalyptic thriller that takes place in a ...  "
      ]
     },
     "execution_count": 14,
     "metadata": {},
     "output_type": "execute_result"
    }
   ],
   "source": [
    "#creating new bagofwords column\n",
    "drama2['bagofwords'] = ''\n",
    "columns = ['plot_token','genre_token','stars_token'] \n",
    "\n",
    "for index, row in drama2.iterrows():\n",
    "    words = ''\n",
    "    for col in columns:\n",
    "        words += ' '.join(row[col]) + ' '\n",
    "    row['bagofwords'] = words\n",
    "    \n",
    "drama2 = drama2.drop(columns=['plot_token','genre_token','stars_token'], axis=1)\n",
    "    \n",
    "drama2.head()"
   ]
  },
  {
   "cell_type": "markdown",
   "id": "bd3182e2",
   "metadata": {},
   "source": [
    "With the `bagofwords` created, our attention will be focused on the `Rating` and `Votes:`. First thing is to change the column name and remove the ':' at the end of the `Votes:`."
   ]
  },
  {
   "cell_type": "code",
   "execution_count": 15,
   "id": "6acc178f",
   "metadata": {},
   "outputs": [
    {
     "data": {
      "text/html": [
       "<div>\n",
       "<style scoped>\n",
       "    .dataframe tbody tr th:only-of-type {\n",
       "        vertical-align: middle;\n",
       "    }\n",
       "\n",
       "    .dataframe tbody tr th {\n",
       "        vertical-align: top;\n",
       "    }\n",
       "\n",
       "    .dataframe thead th {\n",
       "        text-align: right;\n",
       "    }\n",
       "</style>\n",
       "<table border=\"1\" class=\"dataframe\">\n",
       "  <thead>\n",
       "    <tr style=\"text-align: right;\">\n",
       "      <th></th>\n",
       "      <th>Title</th>\n",
       "      <th>Rating</th>\n",
       "      <th>Votes</th>\n",
       "      <th>bagofwords</th>\n",
       "    </tr>\n",
       "  </thead>\n",
       "  <tbody>\n",
       "    <tr>\n",
       "      <th>0</th>\n",
       "      <td>Hellbound</td>\n",
       "      <td>6.7</td>\n",
       "      <td>14,032</td>\n",
       "      <td>people hear predictions on when they will die ...</td>\n",
       "    </tr>\n",
       "    <tr>\n",
       "      <th>1</th>\n",
       "      <td>Squid Game</td>\n",
       "      <td>8.1</td>\n",
       "      <td>339,931</td>\n",
       "      <td>hundreds of cash-strapped players accept a str...</td>\n",
       "    </tr>\n",
       "    <tr>\n",
       "      <th>2</th>\n",
       "      <td>My Name</td>\n",
       "      <td>7.9</td>\n",
       "      <td>12,877</td>\n",
       "      <td>the story about a woman who joins an organized...</td>\n",
       "    </tr>\n",
       "    <tr>\n",
       "      <th>3</th>\n",
       "      <td>Miraculous: Tales of Ladybug &amp; Cat Noir</td>\n",
       "      <td>7.7</td>\n",
       "      <td>9,439</td>\n",
       "      <td>marinette and adrien two normal teens transfor...</td>\n",
       "    </tr>\n",
       "    <tr>\n",
       "      <th>4</th>\n",
       "      <td>Happiness</td>\n",
       "      <td>8.6</td>\n",
       "      <td>921</td>\n",
       "      <td>an apocalyptic thriller that takes place in a ...</td>\n",
       "    </tr>\n",
       "  </tbody>\n",
       "</table>\n",
       "</div>"
      ],
      "text/plain": [
       "                                     Title Rating    Votes  \\\n",
       "0                                Hellbound    6.7   14,032   \n",
       "1                               Squid Game    8.1  339,931   \n",
       "2                                  My Name    7.9   12,877   \n",
       "3  Miraculous: Tales of Ladybug & Cat Noir    7.7    9,439   \n",
       "4                                Happiness    8.6      921   \n",
       "\n",
       "                                          bagofwords  \n",
       "0  people hear predictions on when they will die ...  \n",
       "1  hundreds of cash-strapped players accept a str...  \n",
       "2  the story about a woman who joins an organized...  \n",
       "3  marinette and adrien two normal teens transfor...  \n",
       "4  an apocalyptic thriller that takes place in a ...  "
      ]
     },
     "execution_count": 15,
     "metadata": {},
     "output_type": "execute_result"
    }
   ],
   "source": [
    "drama2.rename(columns={\"Votes:\": \"Votes\"}, inplace=True)\n",
    "drama2.head()"
   ]
  },
  {
   "cell_type": "markdown",
   "id": "6de17c2b",
   "metadata": {},
   "source": [
    "Let's see how many missing values we have for `Rating` and `Votes`."
   ]
  },
  {
   "cell_type": "code",
   "execution_count": 16,
   "id": "4c4c1f89",
   "metadata": {},
   "outputs": [
    {
     "name": "stdout",
     "output_type": "stream",
     "text": [
      "Missing Rating: 312\n",
      "Missing Votes: 312\n"
     ]
    }
   ],
   "source": [
    "#missing rating\n",
    "print(\"Missing Rating:\",drama2['Rating'][drama2['Rating']=='-'].count())\n",
    "#missing votes\n",
    "print(\"Missing Votes:\",drama2['Votes'][drama2['Votes']=='-'].count())"
   ]
  },
  {
   "cell_type": "markdown",
   "id": "2507fcb2",
   "metadata": {},
   "source": [
    "There are 312 missing values for `Rating` and `Votes`. It is my suspicion that these missing values are likely to be at the same observations. For the purpose of a recommender system, we will not be needing these columns but still want to understand some basic statistical distribution from this information. We will create two dataframes from this where one will be used for the recommender system and one for simple EDA."
   ]
  },
  {
   "cell_type": "code",
   "execution_count": 17,
   "id": "1d44bd5c",
   "metadata": {},
   "outputs": [
    {
     "data": {
      "text/html": [
       "<div>\n",
       "<style scoped>\n",
       "    .dataframe tbody tr th:only-of-type {\n",
       "        vertical-align: middle;\n",
       "    }\n",
       "\n",
       "    .dataframe tbody tr th {\n",
       "        vertical-align: top;\n",
       "    }\n",
       "\n",
       "    .dataframe thead th {\n",
       "        text-align: right;\n",
       "    }\n",
       "</style>\n",
       "<table border=\"1\" class=\"dataframe\">\n",
       "  <thead>\n",
       "    <tr style=\"text-align: right;\">\n",
       "      <th></th>\n",
       "      <th>Title</th>\n",
       "      <th>Rating</th>\n",
       "      <th>Votes</th>\n",
       "      <th>bagofwords</th>\n",
       "    </tr>\n",
       "  </thead>\n",
       "  <tbody>\n",
       "    <tr>\n",
       "      <th>0</th>\n",
       "      <td>Hellbound</td>\n",
       "      <td>6.7</td>\n",
       "      <td>14,032</td>\n",
       "      <td>people hear predictions on when they will die ...</td>\n",
       "    </tr>\n",
       "    <tr>\n",
       "      <th>1</th>\n",
       "      <td>Squid Game</td>\n",
       "      <td>8.1</td>\n",
       "      <td>339,931</td>\n",
       "      <td>hundreds of cash-strapped players accept a str...</td>\n",
       "    </tr>\n",
       "    <tr>\n",
       "      <th>2</th>\n",
       "      <td>My Name</td>\n",
       "      <td>7.9</td>\n",
       "      <td>12,877</td>\n",
       "      <td>the story about a woman who joins an organized...</td>\n",
       "    </tr>\n",
       "    <tr>\n",
       "      <th>3</th>\n",
       "      <td>Miraculous: Tales of Ladybug &amp; Cat Noir</td>\n",
       "      <td>7.7</td>\n",
       "      <td>9,439</td>\n",
       "      <td>marinette and adrien two normal teens transfor...</td>\n",
       "    </tr>\n",
       "    <tr>\n",
       "      <th>4</th>\n",
       "      <td>Happiness</td>\n",
       "      <td>8.6</td>\n",
       "      <td>921</td>\n",
       "      <td>an apocalyptic thriller that takes place in a ...</td>\n",
       "    </tr>\n",
       "  </tbody>\n",
       "</table>\n",
       "</div>"
      ],
      "text/plain": [
       "                                     Title Rating    Votes  \\\n",
       "0                                Hellbound    6.7   14,032   \n",
       "1                               Squid Game    8.1  339,931   \n",
       "2                                  My Name    7.9   12,877   \n",
       "3  Miraculous: Tales of Ladybug & Cat Noir    7.7    9,439   \n",
       "4                                Happiness    8.6      921   \n",
       "\n",
       "                                          bagofwords  \n",
       "0  people hear predictions on when they will die ...  \n",
       "1  hundreds of cash-strapped players accept a str...  \n",
       "2  the story about a woman who joins an organized...  \n",
       "3  marinette and adrien two normal teens transfor...  \n",
       "4  an apocalyptic thriller that takes place in a ...  "
      ]
     },
     "execution_count": 17,
     "metadata": {},
     "output_type": "execute_result"
    }
   ],
   "source": [
    "#creating EDA dataframe\n",
    "drama_EDA = drama2[drama2['Rating'] != '-']\n",
    "\n",
    "#creating recommender dataframe\n",
    "drama_rec = drama2.drop(columns = ['Rating', 'Votes'])\n",
    "\n",
    "drama_EDA.head()"
   ]
  },
  {
   "cell_type": "code",
   "execution_count": 18,
   "id": "a1de641e",
   "metadata": {},
   "outputs": [
    {
     "data": {
      "text/html": [
       "<div>\n",
       "<style scoped>\n",
       "    .dataframe tbody tr th:only-of-type {\n",
       "        vertical-align: middle;\n",
       "    }\n",
       "\n",
       "    .dataframe tbody tr th {\n",
       "        vertical-align: top;\n",
       "    }\n",
       "\n",
       "    .dataframe thead th {\n",
       "        text-align: right;\n",
       "    }\n",
       "</style>\n",
       "<table border=\"1\" class=\"dataframe\">\n",
       "  <thead>\n",
       "    <tr style=\"text-align: right;\">\n",
       "      <th></th>\n",
       "      <th>Title</th>\n",
       "      <th>bagofwords</th>\n",
       "    </tr>\n",
       "  </thead>\n",
       "  <tbody>\n",
       "    <tr>\n",
       "      <th>0</th>\n",
       "      <td>Hellbound</td>\n",
       "      <td>people hear predictions on when they will die ...</td>\n",
       "    </tr>\n",
       "    <tr>\n",
       "      <th>1</th>\n",
       "      <td>Squid Game</td>\n",
       "      <td>hundreds of cash-strapped players accept a str...</td>\n",
       "    </tr>\n",
       "    <tr>\n",
       "      <th>2</th>\n",
       "      <td>My Name</td>\n",
       "      <td>the story about a woman who joins an organized...</td>\n",
       "    </tr>\n",
       "    <tr>\n",
       "      <th>3</th>\n",
       "      <td>Miraculous: Tales of Ladybug &amp; Cat Noir</td>\n",
       "      <td>marinette and adrien two normal teens transfor...</td>\n",
       "    </tr>\n",
       "    <tr>\n",
       "      <th>4</th>\n",
       "      <td>Happiness</td>\n",
       "      <td>an apocalyptic thriller that takes place in a ...</td>\n",
       "    </tr>\n",
       "  </tbody>\n",
       "</table>\n",
       "</div>"
      ],
      "text/plain": [
       "                                     Title  \\\n",
       "0                                Hellbound   \n",
       "1                               Squid Game   \n",
       "2                                  My Name   \n",
       "3  Miraculous: Tales of Ladybug & Cat Noir   \n",
       "4                                Happiness   \n",
       "\n",
       "                                          bagofwords  \n",
       "0  people hear predictions on when they will die ...  \n",
       "1  hundreds of cash-strapped players accept a str...  \n",
       "2  the story about a woman who joins an organized...  \n",
       "3  marinette and adrien two normal teens transfor...  \n",
       "4  an apocalyptic thriller that takes place in a ...  "
      ]
     },
     "execution_count": 18,
     "metadata": {},
     "output_type": "execute_result"
    }
   ],
   "source": [
    "drama_rec.head()"
   ]
  },
  {
   "cell_type": "markdown",
   "id": "15273d96",
   "metadata": {},
   "source": [
    "We will be working with the drama_EDA dataframe first for simple exploratory data analysis. As mentioned before, we need to convert the `Rating` and `Votes` to be numeric type. Because `Votes` is currently a string, we need to remove any ',' found in the string first before casting is as a integer. `Rating` will be cast as a float."
   ]
  },
  {
   "cell_type": "code",
   "execution_count": 19,
   "id": "5a1c6a6b",
   "metadata": {},
   "outputs": [
    {
     "data": {
      "text/plain": [
       "Title          object\n",
       "Rating        float64\n",
       "Votes           int32\n",
       "bagofwords     object\n",
       "dtype: object"
      ]
     },
     "execution_count": 19,
     "metadata": {},
     "output_type": "execute_result"
    }
   ],
   "source": [
    "#remove ',' and convert\n",
    "drama_EDA['Votes'] = drama_EDA['Votes'].str.replace(',','')\n",
    "drama_EDA['Votes'] = drama_EDA['Votes'].astype('int')\n",
    "\n",
    "drama_EDA['Rating'] = drama_EDA['Rating'].astype('float')\n",
    "\n",
    "drama_EDA.dtypes"
   ]
  },
  {
   "cell_type": "markdown",
   "id": "e31115f6",
   "metadata": {},
   "source": [
    "With the EDA dataframe cleaned up, we can now perform some analysis on the distribution. \n",
    "\n",
    "<hr>"
   ]
  },
  {
   "cell_type": "markdown",
   "id": "286bfd2b",
   "metadata": {},
   "source": [
    "### EDA"
   ]
  },
  {
   "cell_type": "markdown",
   "id": "92100fac",
   "metadata": {},
   "source": [
    "Let's visualize the `Rating` and `Votes` distribution."
   ]
  },
  {
   "cell_type": "code",
   "execution_count": 20,
   "id": "8269c927",
   "metadata": {},
   "outputs": [],
   "source": [
    "#creat a function for plotting different numeric columns\n",
    "def hist_num(column):\n",
    "    plt.figure()\n",
    "    plt.hist(drama_EDA[column], bins=20)\n",
    "    plt.title(f'Histogram of {column} Distribution')\n",
    "    plt.axvline(drama_EDA[column].mean(),label='mean', color='red')\n",
    "    plt.axvline(drama_EDA[column].median(),label='median', color='blue')\n",
    "    plt.xlabel(column)\n",
    "    plt.legend()\n",
    "    plt.show()\n",
    "    \n",
    "    print(f'{column} Mean:',round(drama_EDA[column].mean(),2))\n",
    "    print(f'{column} Median:',drama_EDA[column].median())\n",
    "    print(f'{column} Minimum:',drama_EDA[column].min())\n",
    "    print(f'{column} Maximum:',drama_EDA[column].max())"
   ]
  },
  {
   "cell_type": "code",
   "execution_count": 21,
   "id": "5c67c9da",
   "metadata": {},
   "outputs": [
    {
     "data": {
      "image/png": "[encoded data removed]",
      "text/plain": [
       "<Figure size 432x288 with 1 Axes>"
      ]
     },
     "metadata": {
      "needs_background": "light"
     },
     "output_type": "display_data"
    },
    {
     "name": "stdout",
     "output_type": "stream",
     "text": [
      "Rating Mean: 7.39\n",
      "Rating Median: 7.5\n",
      "Rating Minimum: 1.8\n",
      "Rating Maximum: 10.0\n"
     ]
    }
   ],
   "source": [
    "hist_num('Rating')"
   ]
  },
  {
   "cell_type": "markdown",
   "id": "a80cc37a",
   "metadata": {},
   "source": [
    "We can see from the distribution that the majority of dramas have a rating above 7.5."
   ]
  },
  {
   "cell_type": "code",
   "execution_count": 22,
   "id": "de5faaf6",
   "metadata": {},
   "outputs": [
    {
     "data": {
      "image/png": "[encoded data removed]",
      "text/plain": [
       "<Figure size 432x288 with 1 Axes>"
      ]
     },
     "metadata": {
      "needs_background": "light"
     },
     "output_type": "display_data"
    },
    {
     "name": "stdout",
     "output_type": "stream",
     "text": [
      "Votes Mean: 1242.05\n",
      "Votes Median: 111.0\n",
      "Votes Minimum: 5\n",
      "Votes Maximum: 339931\n"
     ]
    }
   ],
   "source": [
    "hist_num('Votes')"
   ]
  },
  {
   "cell_type": "markdown",
   "id": "d8084354",
   "metadata": {},
   "source": [
    "From the distribution of votes, the large majority of dramas have less than 25,000 votes. Let's dive deeper and see that lowest and highest voted and rated drama. "
   ]
  },
  {
   "cell_type": "code",
   "execution_count": 23,
   "id": "9915a2f4",
   "metadata": {},
   "outputs": [],
   "source": [
    "#create function to quickly plot top and bottom dramas\n",
    "def top_bottom(column, top=True):\n",
    "    sorted_df = drama_EDA.sort_values(by=column).head(20)\n",
    "    plt.figure(figsize=(15,8))\n",
    "    if top==True:\n",
    "        sorted_df = drama_EDA.sort_values(by=column, ascending=False).head(20)\n",
    "        plt.barh(sorted_df['Title'], sorted_df[column])\n",
    "        plt.title(f'Top Drama {column}')\n",
    "    else:\n",
    "        sorted_df = drama_EDA.sort_values(by=column, ascending=False).tail(20)\n",
    "        plt.barh(sorted_df['Title'], sorted_df[column], color='red')\n",
    "        plt.title(f'Bottom Drama {column}')\n",
    "    plt.xlabel(column)\n",
    "    plt.ylabel('Drama')\n",
    "\n",
    "    plt.show()"
   ]
  },
  {
   "cell_type": "code",
   "execution_count": 24,
   "id": "03597f44",
   "metadata": {},
   "outputs": [
    {
     "data": {
      "image/png": "[encoded data removed]",
      "text/plain": [
       "<Figure size 1080x576 with 1 Axes>"
      ]
     },
     "metadata": {
      "needs_background": "light"
     },
     "output_type": "display_data"
    }
   ],
   "source": [
    "top_bottom('Rating', top=True)"
   ]
  },
  {
   "cell_type": "markdown",
   "id": "a3a86941",
   "metadata": {},
   "source": [
    "Snowdrop has a perfect rating. I will need to check it out. In addition, we can see that BTS comes up several times in the top drama list as well as my favorite show, Running Man."
   ]
  },
  {
   "cell_type": "code",
   "execution_count": 25,
   "id": "555a1cb6",
   "metadata": {},
   "outputs": [
    {
     "data": {
      "image/png": "[encoded data removed]",
      "text/plain": [
       "<Figure size 1080x576 with 1 Axes>"
      ]
     },
     "metadata": {
      "needs_background": "light"
     },
     "output_type": "display_data"
    }
   ],
   "source": [
    "top_bottom('Rating', top=False)"
   ]
  },
  {
   "cell_type": "markdown",
   "id": "8e220440",
   "metadata": {},
   "source": [
    "The above shows the lowest rated dramas. I cannot say I've watched any of them. Let's take a look at the highest and lowest voted dramas."
   ]
  },
  {
   "cell_type": "code",
   "execution_count": 26,
   "id": "73cf1936",
   "metadata": {},
   "outputs": [
    {
     "data": {
      "image/png": "[encoded data removed]",
      "text/plain": [
       "<Figure size 1080x576 with 1 Axes>"
      ]
     },
     "metadata": {
      "needs_background": "light"
     },
     "output_type": "display_data"
    }
   ],
   "source": [
    "top_bottom('Votes', top=True)"
   ]
  },
  {
   "cell_type": "markdown",
   "id": "4310a806",
   "metadata": {},
   "source": [
    "As mentioned before, the dataset contains non-Korean shows in the list and can be seen here. Squid Game (great show!) has the most votes by a large margin."
   ]
  },
  {
   "cell_type": "code",
   "execution_count": 27,
   "id": "bea5a550",
   "metadata": {},
   "outputs": [
    {
     "data": {
      "image/png": "[encoded data removed]",
      "text/plain": [
       "<Figure size 1080x576 with 1 Axes>"
      ]
     },
     "metadata": {
      "needs_background": "light"
     },
     "output_type": "display_data"
    }
   ],
   "source": [
    "top_bottom('Votes', top=False)"
   ]
  },
  {
   "cell_type": "markdown",
   "id": "b4ed0a72",
   "metadata": {},
   "source": [
    "Now that the top and bottom dramas have been discovered in terms of rating and votes, let's get to writing our recommender system.\n",
    "\n",
    "<hr>"
   ]
  },
  {
   "cell_type": "markdown",
   "id": "af9744a3",
   "metadata": {},
   "source": [
    "### Recommender System"
   ]
  },
  {
   "cell_type": "markdown",
   "id": "0e846244",
   "metadata": {},
   "source": [
    "For the Recommender System, we will build a content-based one based on similar movies the user has viewed already based on cosine similarities."
   ]
  },
  {
   "cell_type": "code",
   "execution_count": 28,
   "id": "a453098e",
   "metadata": {},
   "outputs": [],
   "source": [
    "#import sklearn libraries\n",
    "from sklearn.feature_extraction.text import CountVectorizer\n",
    "from sklearn.metrics.pairwise import cosine_similarity"
   ]
  },
  {
   "cell_type": "code",
   "execution_count": 29,
   "id": "c3370b37",
   "metadata": {},
   "outputs": [
    {
     "data": {
      "text/html": [
       "<div>\n",
       "<style scoped>\n",
       "    .dataframe tbody tr th:only-of-type {\n",
       "        vertical-align: middle;\n",
       "    }\n",
       "\n",
       "    .dataframe tbody tr th {\n",
       "        vertical-align: top;\n",
       "    }\n",
       "\n",
       "    .dataframe thead th {\n",
       "        text-align: right;\n",
       "    }\n",
       "</style>\n",
       "<table border=\"1\" class=\"dataframe\">\n",
       "  <thead>\n",
       "    <tr style=\"text-align: right;\">\n",
       "      <th></th>\n",
       "      <th>Title</th>\n",
       "      <th>bagofwords</th>\n",
       "    </tr>\n",
       "  </thead>\n",
       "  <tbody>\n",
       "    <tr>\n",
       "      <th>0</th>\n",
       "      <td>Hellbound</td>\n",
       "      <td>people hear predictions on when they will die ...</td>\n",
       "    </tr>\n",
       "    <tr>\n",
       "      <th>1</th>\n",
       "      <td>Squid Game</td>\n",
       "      <td>hundreds of cash-strapped players accept a str...</td>\n",
       "    </tr>\n",
       "    <tr>\n",
       "      <th>2</th>\n",
       "      <td>My Name</td>\n",
       "      <td>the story about a woman who joins an organized...</td>\n",
       "    </tr>\n",
       "    <tr>\n",
       "      <th>3</th>\n",
       "      <td>Miraculous: Tales of Ladybug &amp; Cat Noir</td>\n",
       "      <td>marinette and adrien two normal teens transfor...</td>\n",
       "    </tr>\n",
       "    <tr>\n",
       "      <th>4</th>\n",
       "      <td>Happiness</td>\n",
       "      <td>an apocalyptic thriller that takes place in a ...</td>\n",
       "    </tr>\n",
       "  </tbody>\n",
       "</table>\n",
       "</div>"
      ],
      "text/plain": [
       "                                     Title  \\\n",
       "0                                Hellbound   \n",
       "1                               Squid Game   \n",
       "2                                  My Name   \n",
       "3  Miraculous: Tales of Ladybug & Cat Noir   \n",
       "4                                Happiness   \n",
       "\n",
       "                                          bagofwords  \n",
       "0  people hear predictions on when they will die ...  \n",
       "1  hundreds of cash-strapped players accept a str...  \n",
       "2  the story about a woman who joins an organized...  \n",
       "3  marinette and adrien two normal teens transfor...  \n",
       "4  an apocalyptic thriller that takes place in a ...  "
      ]
     },
     "execution_count": 29,
     "metadata": {},
     "output_type": "execute_result"
    }
   ],
   "source": [
    "#reminder for the dataframe we are working with\n",
    "drama_rec.head()"
   ]
  },
  {
   "cell_type": "markdown",
   "id": "2c1a602c",
   "metadata": {},
   "source": [
    "We will start by building a model with the CountVectorizer module from SKLearn and take a look at the cosine similarities. For additional information on cosine similarity, I found this article very helpful.\n",
    "\n",
    "https://www.machinelearningplus.com/nlp/cosine-similarity/"
   ]
  },
  {
   "cell_type": "code",
   "execution_count": 30,
   "id": "1d495a2e",
   "metadata": {},
   "outputs": [
    {
     "name": "stdout",
     "output_type": "stream",
     "text": [
      "[[1.         0.04159452 0.20228869 ... 0.04950738 0.         0.05564149]\n",
      " [0.04159452 1.         0.07151985 ... 0.035007   0.         0.        ]\n",
      " [0.20228869 0.07151985 1.         ... 0.04256283 0.         0.04783649]\n",
      " ...\n",
      " [0.04950738 0.035007   0.04256283 ... 1.         0.         0.        ]\n",
      " [0.         0.         0.         ... 0.         1.         0.        ]\n",
      " [0.05564149 0.         0.04783649 ... 0.         0.         1.        ]]\n"
     ]
    }
   ],
   "source": [
    "#use stop words to remove common english words like 'the', 'is' etc.\n",
    "rec_model = CountVectorizer(stop_words=\"english\")\n",
    "rec_model = rec_model.fit_transform(drama_rec['bagofwords'])\n",
    "cosinesim = cosine_similarity(rec_model, rec_model)\n",
    "print(cosinesim)"
   ]
  },
  {
   "cell_type": "markdown",
   "id": "2a337297",
   "metadata": {},
   "source": [
    "From the above, we now have the cosine similarities for all the titles in our dataframe. We will create a index of the titles as follows:"
   ]
  },
  {
   "cell_type": "code",
   "execution_count": 31,
   "id": "f8df9e79",
   "metadata": {},
   "outputs": [
    {
     "data": {
      "text/plain": [
       "0                                     Hellbound\n",
       "1                                    Squid Game\n",
       "2                                       My Name\n",
       "3       Miraculous: Tales of Ladybug & Cat Noir\n",
       "4                                     Happiness\n",
       "                         ...                   \n",
       "1978         Crime and Film Noir Drama Specials\n",
       "1980                    Double Trouble En Corea\n",
       "1982                Why Couldnt You Get Married\n",
       "1984      Untitled K-Pop Latin American Project\n",
       "1985                               Bite Sisters\n",
       "Name: Title, Length: 1662, dtype: object"
      ]
     },
     "execution_count": 31,
     "metadata": {},
     "output_type": "execute_result"
    }
   ],
   "source": [
    "titles = pd.Series(drama_rec['Title'])\n",
    "titles"
   ]
  },
  {
   "cell_type": "markdown",
   "id": "d2c46af1",
   "metadata": {},
   "source": [
    "To complete, we will create a recommender function that take a title that the user has seen and recommend 10 movies with the highest cosine similarity to that movie."
   ]
  },
  {
   "cell_type": "code",
   "execution_count": 32,
   "id": "1c8c6013",
   "metadata": {},
   "outputs": [],
   "source": [
    "#create a list for assertion\n",
    "drama_title = []\n",
    "for i in titles.values:\n",
    "    drama_title.append(i)"
   ]
  },
  {
   "cell_type": "code",
   "execution_count": 43,
   "id": "2f2450b8",
   "metadata": {},
   "outputs": [],
   "source": [
    "#define recommender function\n",
    "def recommend(title, cosinesim = cosinesim):\n",
    "    '''\n",
    "    Function takes a user inputted title that is found in the list and returns a list of 10 titles with the largest cosine\n",
    "    similarity.\n",
    "    \n",
    "    #Assert that the inputted title is in the list of titles in the dataset\n",
    "    \n",
    "    '''\n",
    "    assert title in drama_title, \"Inputted title needs to be part of database\"\n",
    "    \n",
    "    #instantiate empty list to be populated \n",
    "    recommended_movies = []\n",
    "    idx = drama_rec[drama_rec['Title']==title].index[0]\n",
    "    score_series = pd.Series(cosinesim[idx]).sort_values(ascending = False)\n",
    "    top_10_indices = list(score_series.iloc[1:11].index)\n",
    "    \n",
    "    for i in top_10_indices:\n",
    "        recommended_movies.append(list(drama_rec['Title'])[i])\n",
    "        \n",
    "    return recommended_movies"
   ]
  },
  {
   "cell_type": "markdown",
   "id": "32c5a144",
   "metadata": {},
   "source": [
    "We will now test out the recommender system by inputting 'Running Man' to see what titles are recommended based on this user input."
   ]
  },
  {
   "cell_type": "code",
   "execution_count": 44,
   "id": "23dfce8f",
   "metadata": {},
   "outputs": [
    {
     "data": {
      "text/plain": [
       "['Prison Life of Fools',\n",
       " 'Family Outing',\n",
       " 'Busted!',\n",
       " 'We Play',\n",
       " 'Knowing Bros',\n",
       " 'Running Girls',\n",
       " 'Sixth Sense',\n",
       " 'X Man',\n",
       " '4 Wheeled Restaurant',\n",
       " 'Crazy Recipe Adventure']"
      ]
     },
     "execution_count": 44,
     "metadata": {},
     "output_type": "execute_result"
    }
   ],
   "source": [
    "recommend('Running Man')"
   ]
  },
  {
   "cell_type": "markdown",
   "id": "c356e900",
   "metadata": {},
   "source": [
    "From the recommended list, 'Family Outing', 'Busted!', 'X Man' and '4 Wheeled Restaurant' are shows I am familiar with and can say that they are similar to 'Running Man'. This is great!\n",
    "\n",
    "Let's now test where we input a title not in the list to make sure the assertion error comes up."
   ]
  },
  {
   "cell_type": "code",
   "execution_count": 534,
   "id": "768c174d",
   "metadata": {},
   "outputs": [
    {
     "ename": "AssertionError",
     "evalue": "Inputted title needs to be part of database",
     "output_type": "error",
     "traceback": [
      "\u001b[1;31m---------------------------------------------------------------------------\u001b[0m",
      "\u001b[1;31mAssertionError\u001b[0m                            Traceback (most recent call last)",
      "\u001b[1;32m~\\AppData\\Local\\Temp/ipykernel_6004/2891646308.py\u001b[0m in \u001b[0;36m<module>\u001b[1;34m\u001b[0m\n\u001b[1;32m----> 1\u001b[1;33m \u001b[0mrecommend\u001b[0m\u001b[1;33m(\u001b[0m\u001b[1;34m'X-files'\u001b[0m\u001b[1;33m)\u001b[0m\u001b[1;33m\u001b[0m\u001b[1;33m\u001b[0m\u001b[0m\n\u001b[0m",
      "\u001b[1;32m~\\AppData\\Local\\Temp/ipykernel_6004/649539464.py\u001b[0m in \u001b[0;36mrecommend\u001b[1;34m(title, cosinesim)\u001b[0m\n\u001b[0;32m      8\u001b[0m \u001b[1;33m\u001b[0m\u001b[0m\n\u001b[0;32m      9\u001b[0m     '''\n\u001b[1;32m---> 10\u001b[1;33m     \u001b[1;32massert\u001b[0m \u001b[0mtitle\u001b[0m \u001b[1;32min\u001b[0m \u001b[0mdrama_title\u001b[0m\u001b[1;33m,\u001b[0m \u001b[1;34m\"Inputted title needs to be part of database\"\u001b[0m\u001b[1;33m\u001b[0m\u001b[1;33m\u001b[0m\u001b[0m\n\u001b[0m\u001b[0;32m     11\u001b[0m \u001b[1;33m\u001b[0m\u001b[0m\n\u001b[0;32m     12\u001b[0m     \u001b[1;31m#instantiate empty list to be populated\u001b[0m\u001b[1;33m\u001b[0m\u001b[1;33m\u001b[0m\u001b[0m\n",
      "\u001b[1;31mAssertionError\u001b[0m: Inputted title needs to be part of database"
     ]
    }
   ],
   "source": [
    "recommend('X-files')"
   ]
  },
  {
   "cell_type": "markdown",
   "id": "6256e480",
   "metadata": {},
   "source": [
    "Everything seems to be working. While testing the recommender function, I sometimes spelled the title wrong or only remembered part of the title. To this point, let's create a function that users can use to find titles found in the database. "
   ]
  },
  {
   "cell_type": "code",
   "execution_count": 557,
   "id": "e0628438",
   "metadata": {},
   "outputs": [],
   "source": [
    "def title_finder(keyword):\n",
    "    return drama_rec[drama_rec['Title'].str.contains('Hometown')]['Title']"
   ]
  },
  {
   "cell_type": "code",
   "execution_count": 558,
   "id": "f87c2642",
   "metadata": {},
   "outputs": [
    {
     "data": {
      "text/plain": [
       "7      Hometown Cha-Cha-Cha\n",
       "226                Hometown\n",
       "Name: Title, dtype: object"
      ]
     },
     "execution_count": 558,
     "metadata": {},
     "output_type": "execute_result"
    }
   ],
   "source": [
    "title_finder('Hometown')"
   ]
  },
  {
   "cell_type": "markdown",
   "id": "c7f4af72",
   "metadata": {},
   "source": [
    "Now the user can find the exact title in the database for use."
   ]
  },
  {
   "cell_type": "markdown",
   "id": "c1cc1462",
   "metadata": {},
   "source": [
    "### Conclusion"
   ]
  },
  {
   "cell_type": "markdown",
   "id": "0d5edd74",
   "metadata": {},
   "source": [
    "In this notebook, I have created a simple recommender system for Korean Dramas. I have cleaned the data so that it is formatted in a workable way.\n",
    "\n",
    "As some next steps, would want to create a function for users to type in keywords of plot line or by actor/actress. This could also be applied to other datasets for a recommender system or deployed on the web as a tool for those looking for recommendations. \n",
    "\n",
    "Happy Watching!"
   ]
  }
 ],
 "metadata": {
  "hide_input": false,
  "kernelspec": {
   "display_name": "Python 3 (ipykernel)",
   "language": "python",
   "name": "python3"
  },
  "language_info": {
   "codemirror_mode": {
    "name": "ipython",
    "version": 3
   },
   "file_extension": ".py",
   "mimetype": "text/x-python",
   "name": "python",
   "nbconvert_exporter": "python",
   "pygments_lexer": "ipython3",
   "version": "3.9.7"
  }
 },
 "nbformat": 4,
 "nbformat_minor": 5
}
